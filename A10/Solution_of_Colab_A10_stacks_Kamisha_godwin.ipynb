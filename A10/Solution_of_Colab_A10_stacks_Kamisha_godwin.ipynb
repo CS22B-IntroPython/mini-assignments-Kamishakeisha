{
  "cells": [
    {
      "cell_type": "markdown",
      "source": [
        "##**Stack Questions**"
      ],
      "metadata": {
        "id": "cP32wAV3Yi-4"
      }
    },
    {
      "cell_type": "markdown",
      "source": [
        "## Question 1: Write a function to sort a stack."
      ],
      "metadata": {
        "id": "KqdNjm1oY_ss"
      }
    },
    {
      "cell_type": "code",
      "source": [
        "def sort_stack(stack):\n",
        "\n",
        "    temp_stack = []\n",
        "\n",
        "    while stack:\n",
        "\n",
        "        current = stack.pop()\n",
        "        while temp_stack and temp_stack[-1] > current:\n",
        "            stack.append(temp_stack.pop())\n",
        "\n",
        "        temp_stack.append(current)\n",
        "    while temp_stack:\n",
        "        stack.append(temp_stack.pop())\n",
        "\n",
        "    return stack\n",
        "\n",
        "\n",
        "\n",
        "stack = [34, 3, 31, 98, 92, 23]\n",
        "print(sort_stack(stack))"
      ],
      "metadata": {
        "id": "mb9K46p3Ym0N",
        "colab": {
          "base_uri": "https://localhost:8080/"
        },
        "outputId": "0aa15a23-83c0-49f0-d25a-5d2d2a3bbe5a"
      },
      "execution_count": 6,
      "outputs": [
        {
          "output_type": "stream",
          "name": "stdout",
          "text": [
            "[98, 92, 34, 31, 23, 3]\n"
          ]
        }
      ]
    },
    {
      "cell_type": "markdown",
      "metadata": {
        "id": "jFxb6ss_Whwl"
      },
      "source": [
        "## Question 2: Depict the following image as a list.\n",
        "\n",
        "<img src=\"https://miro.medium.com/max/1050/1*XifPIMxbamGKhz5UAEdz2w.png\">\n",
        "\n",
        "#### Queue\n",
        "1. Add the number 9 to the list.\n",
        "2. Remove the first number (7) from the list.\n",
        "\n",
        "#### Stack\n",
        "3. Add the number 4 to the same list.\n",
        "4. Remove the last number added (4) from the list."
      ]
    },
    {
      "cell_type": "code",
      "execution_count": 8,
      "metadata": {
        "id": "XOm7YLTEWhwm",
        "colab": {
          "base_uri": "https://localhost:8080/"
        },
        "outputId": "6cf6d092-76c6-4aee-f7b1-35d0a44d13c4"
      },
      "outputs": [
        {
          "output_type": "stream",
          "name": "stdout",
          "text": [
            "After enqueue (add 9): [7, 3, 1, 6, 8, 9]\n",
            "After dequeue (remove 7): [3, 1, 6, 8, 9]\n",
            "After push (add 4): [3, 1, 6, 8, 9, 4]\n",
            "After pop (remove 4): [3, 1, 6, 8, 9]\n"
          ]
        }
      ],
      "source": [
        "#Your Answer:\n",
        "\n",
        "my_list = [7, 3, 1, 6, 8]\n",
        "my_list.append(9)\n",
        "print(\"After enqueue (add 9):\", my_list)\n",
        "\n",
        "\n",
        "my_list.pop(0)\n",
        "print(\"After dequeue (remove 7):\", my_list)\n",
        "\n",
        "\n",
        "my_list.append(4)\n",
        "print(\"After push (add 4):\", my_list)\n",
        "\n",
        "\n",
        "my_list.pop()\n",
        "print(\"After pop (remove 4):\", my_list)\n"
      ]
    },
    {
      "cell_type": "markdown",
      "metadata": {
        "id": "tQ3kgHVtWhwn"
      },
      "source": [
        "#### Question 3: Nodes\n",
        "\n",
        "<img src=\"https://encrypted-tbn0.gstatic.com/images?q=tbn:ANd9GcQW8-twGk0hCILE-muHBnG93hZJh2Qvgs7pVA&s\">\n",
        "\n",
        "1. Use a data structure of your choice to denote the different nodes.\n",
        "\n",
        "2. Create a function that sums all of the \"children\". Test with the node 10 (Expected answer is 37).\n"
      ]
    },
    {
      "cell_type": "code",
      "execution_count": 8,
      "metadata": {
        "id": "UU0rjzjXWhwn",
        "colab": {
          "base_uri": "https://localhost:8080/"
        },
        "outputId": "64f2a87b-98c7-4a73-bb40-b766a0a00dab"
      },
      "outputs": [
        {
          "output_type": "stream",
          "name": "stdout",
          "text": [
            "Sum of all children of node 10: 37\n"
          ]
        }
      ],
      "source": [
        "#Your Answer:\n",
        "# Tree Structure using a dictionary\n",
        "tree = {\n",
        "    8: [3, 10],\n",
        "    3: [1, 6],\n",
        "    6: [4, 7],\n",
        "    10: [14],\n",
        "    14: [13],\n",
        "    1: [],\n",
        "    4: [],\n",
        "    7: [],\n",
        "    13: []\n",
        "}\n",
        "\n",
        "# Function to sum all children and grandchildren of a given node\n",
        "def sum_all_children(node, tree):\n",
        "    total_sum = node\n",
        "    children = tree.get(node, [])\n",
        "\n",
        "    for child in children:\n",
        "        total_sum += sum_all_children(child, tree)\n",
        "\n",
        "    return total_sum\n",
        "\n",
        "result = sum_all_children(10, tree)\n",
        "print(f\"Sum of all children of node 10: {result}\")\n"
      ]
    },
    {
      "cell_type": "code",
      "source": [],
      "metadata": {
        "id": "o3O5iBd5OYPq"
      },
      "execution_count": null,
      "outputs": []
    }
  ],
  "metadata": {
    "hide_input": false,
    "kernelspec": {
      "display_name": "Python 3",
      "language": "python",
      "name": "python3"
    },
    "language_info": {
      "codemirror_mode": {
        "name": "ipython",
        "version": 3
      },
      "file_extension": ".py",
      "mimetype": "text/x-python",
      "name": "python",
      "nbconvert_exporter": "python",
      "pygments_lexer": "ipython3",
      "version": "3.8.3"
    },
    "toc": {
      "base_numbering": 1,
      "nav_menu": {},
      "number_sections": true,
      "sideBar": true,
      "skip_h1_title": false,
      "title_cell": "Table of Contents",
      "title_sidebar": "Contents",
      "toc_cell": false,
      "toc_position": {},
      "toc_section_display": true,
      "toc_window_display": false
    },
    "colab": {
      "provenance": []
    }
  },
  "nbformat": 4,
  "nbformat_minor": 0
}